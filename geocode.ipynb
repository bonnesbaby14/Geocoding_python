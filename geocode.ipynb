{
 "cells": [
  {
   "cell_type": "code",
   "execution_count": null,
   "metadata": {},
   "outputs": [],
   "source": [
    "from geopy.geocoders import Nominatim \n",
    "\n",
    "locator = Nominatim(user_agent=\"myGeocoder\")\n",
    "location = locator.geocode(\"Calle Gral. Eulogio Parra 1543, Santa Teresita, 44600 Guadalajara, Jal.\")\n",
    "\n",
    "# location = locator.reverse(\"20.694209552442988, -103.36638301182903\")\n",
    "\n",
    "# print(location.latitude,location.longitude)\n",
    "location"
   ]
  },
  {
   "cell_type": "code",
   "execution_count": null,
   "metadata": {},
   "outputs": [],
   "source": [
    "import geocoder\n",
    "#50 consultas por minuto\n",
    "contador=0\n",
    "\n",
    "while True:\n",
    "    g = geocoder.arcgis(\"C. Nueva Escocia 1885, 44638 Guadalajara, Jal.\")\n",
    "    # print(str(g.json[\"lat\"])+\",\"+str(g.json[\"lng\"]))\n",
    "    g.json[\"address\"]\n",
    "    g = geocoder.arcgis(g.json[\"address\"])\n",
    "    print(str(g.json[\"lat\"])+\",\"+str(g.json[\"lng\"]))\n",
    "    g.json[\"address\"]\n",
    "    contador+=1\n",
    "    print(contador)\n",
    "\n",
    "\n"
   ]
  },
  {
   "cell_type": "code",
   "execution_count": null,
   "metadata": {},
   "outputs": [],
   "source": [
    "import pandas as pd\n",
    "import geocoder\n",
    "datos=pd.read_csv(\"./persona.csv\",)\n",
    "datos.fillna(\"\",inplace=True)\n",
    "datos.iloc[0]\n",
    "contador=0\n",
    "for i in range(len(datos)):\n",
    "    domicilio=str(datos.iloc[i][\"calle\"])+\" \"+str(datos.iloc[i][\"exterior\"])+str(\", \")+str(datos.iloc[i][\"colonia\"])+\", \"+str(datos.iloc[i][\"cp\"])\n",
    "    g = geocoder.arcgis(domicilio)\n",
    "\n",
    "    datos.iloc[i][\"latitud\"]=g.json[\"lat\"]\n",
    "    datos.iloc[i][\"longitud\"]=g.json[\"lng\"]\n",
    "    contador+=1\n",
    "    print(contador)\n",
    "\n",
    "datos.to_csv('persona_cordenadas.csv')    "
   ]
  },
  {
   "cell_type": "markdown",
   "metadata": {},
   "source": [
    "CLASE PARA OBTENER GEOLOCALIZACION DE UN DATAFRAME APLICANDO HILOS PARA OPTIMIZACION DEL PROCESO\n"
   ]
  },
  {
   "cell_type": "code",
   "execution_count": 15,
   "metadata": {},
   "outputs": [
    {
     "name": "stderr",
     "output_type": "stream",
     "text": [
      "/tmp/ipykernel_50037/1118781279.py:31: DtypeWarning: Columns (14) have mixed types. Specify dtype option on import or set low_memory=False.\n",
      "  datos=pd.read_csv(\"./datos/persona.csv\",)\n"
     ]
    },
    {
     "ename": "KeyboardInterrupt",
     "evalue": "",
     "output_type": "error",
     "traceback": [
      "\u001b[0;31m---------------------------------------------------------------------------\u001b[0m",
      "\u001b[0;31mKeyboardInterrupt\u001b[0m                         Traceback (most recent call last)",
      "Cell \u001b[0;32mIn [15], line 44\u001b[0m\n\u001b[1;32m     42\u001b[0m hilo\u001b[39m.\u001b[39mstart()\n\u001b[1;32m     43\u001b[0m \u001b[39mwhile\u001b[39;00m \u001b[39mTrue\u001b[39;00m:\n\u001b[0;32m---> 44\u001b[0m     \u001b[39mpass\u001b[39;00m\n\u001b[1;32m     45\u001b[0m indice\u001b[39m=\u001b[39mindice_max\n\u001b[1;32m     46\u001b[0m indice_max\u001b[39m=\u001b[39mindice\u001b[39m+\u001b[39mdivisor\n",
      "\u001b[0;31mKeyboardInterrupt\u001b[0m: "
     ]
    }
   ],
   "source": [
    "import threading;\n",
    "import pandas as pd\n",
    "import geocoder\n",
    "\n",
    "pd.options.mode.chained_assignment = None \n",
    "\n",
    "class Geocoding (threading.Thread):\n",
    "    \n",
    "    dataframe=None\n",
    "    name=None\n",
    "    \n",
    "    def __init__(self, _dataframe, _name):\n",
    "        threading.Thread.__init__(self);\n",
    "        self.dataframe=_dataframe;\n",
    "        self.name=_name;\n",
    "        \n",
    "        \n",
    "    def run (self):\n",
    "        for i in range(len(self.dataframe)):\n",
    "            domicilio=str(self.dataframe.iloc[i][\"calle\"])+\" \"+str(self.dataframe.iloc[i][\"exterior\"])+str(\", \")+str(self.dataframe.iloc[i][\"colonia\"])+\", \"+str(self.dataframe.iloc[i][\"cp\"])\n",
    "        #    print(domicilio)\n",
    "            g = geocoder.arcgis(domicilio)\n",
    "\n",
    "            datos.at[i,\"latitud\"]=g.json[\"lat\"]\n",
    "            datos.at[i,\"longitud\"]=g.json[\"lng\"]\n",
    "            \n",
    "\n",
    "        self.dataframe.to_csv('./datos/persona_cordenadas_'+str(self.name)+'.csv',index=False,header=False)    \n",
    "        \n",
    "\n",
    "datos=pd.read_csv(\"./datos/persona.csv\",)\n",
    "datos.fillna(\"\",inplace=True)\n",
    "\n",
    "divisor=500\n",
    "indice_max=divisor\n",
    "ciclo=1401\n",
    "indice=0\n",
    "for i in range(1,ciclo,1):\n",
    "    \n",
    "    new_data=datos[indice:indice_max]\n",
    "    hilo=Geocoding(new_data,i)\n",
    "    hilo.start()\n",
    "  \n",
    "    indice=indice_max\n",
    "    indice_max=indice+divisor\n",
    "    \n",
    "\n",
    "\n",
    "\n"
   ]
  }
 ],
 "metadata": {
  "kernelspec": {
   "display_name": "Python 3.9.13 ('ceti')",
   "language": "python",
   "name": "python3"
  },
  "language_info": {
   "codemirror_mode": {
    "name": "ipython",
    "version": 3
   },
   "file_extension": ".py",
   "mimetype": "text/x-python",
   "name": "python",
   "nbconvert_exporter": "python",
   "pygments_lexer": "ipython3",
   "version": "3.9.13"
  },
  "orig_nbformat": 4,
  "vscode": {
   "interpreter": {
    "hash": "2531742f0e8e0a60b0ae9a79fa85c6ce21ba9aa6a340d232e05a132977e28018"
   }
  }
 },
 "nbformat": 4,
 "nbformat_minor": 2
}
